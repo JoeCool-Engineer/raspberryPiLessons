{
 "cells": [
  {
   "cell_type": "markdown",
   "metadata": {},
   "source": [
    "# Raspberry Pi Tutorials\n",
    "This will be my lesson learned notes\n",
    "\n",
    "First resource:\n",
    "[Raspberry Pi LESSON](https://www.youtube.com/watch?v=Wabv5e0KQaU&list=PLGs0VKk2DiYxdMjCJmcP6jt4Yw6OHK85O&index=3)\n",
    "\n",
    "### Command Line Essentials\n",
    "To create **folder** from the command line use <code>mkdir</code><br>\n",
    "To create **files** from the command line use <code>touch</code><br>\n",
    "To create **multiple files** from the command line use:\n",
    "1. <code>touch ./path/file{1..3}.txt</code>\n",
    "2. <code>touch ./path/{readme,utils}.txt</code>\n",
    "3. <code>touch ./path/{index.html,style.css}</code>\n",
    "\n",
    "To **access and write** to text/python file use <code>nano</code> (i.e.) <code>nano helloWorld.py</code><br>\n",
    "To **move or rename** file use <code>mv</code> (i.e.) <code>mv helloWorld.py piFile.py</code><br>\n",
    "To **list** content in file directory <code>ls</code><br>\n",
    "To **print working directory** in the command line use <code>pwd</code><br>\n",
    "To run a python file type <code>python</code> followed by the file (i.e.) <code>python basicPython.py</code><br>"
   ]
  },
  {
   "cell_type": "markdown",
   "metadata": {},
   "source": [
    "### Basic Python\n",
    "To receive an **input** from a user on the command line, type <code>input()</code> (i.e.) <code>input('Input a number')</code>\n",
    "* Note: This function only interprets inputs as strings\n",
    "\n",
    "To convert variable to float use <code>float()</code> function<br>\n",
    "To convert variable to integer use <code>int()</code> function<br>"
   ]
  }
 ],
 "metadata": {
  "language_info": {
   "name": "python"
  }
 },
 "nbformat": 4,
 "nbformat_minor": 2
}
