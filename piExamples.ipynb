{
 "cells": [
  {
   "cell_type": "markdown",
   "metadata": {},
   "source": [
    "# Raspberry Pi 4 Examples\n",
    "This notebook is for Raspberry Pi 4 Examples and will show how the code following examples are functioning. The following image was utilized to assign pin assignments:<br>\n",
    "![Raspberry Pi 4](./images/raspberryPi4.png)\n"
   ]
  },
  {
   "cell_type": "markdown",
   "metadata": {},
   "source": [
    "### Basic Raspberry Pi 4\n",
    "The following will be using \"Physical Pin\" assignments unless otherwise stated, the BCM will not be used. The following commands were introduced during the [\"Understanding and Using GPIO Pins\"](https://youtu.be/Wabv5e0KQaU?si=KVmNMu5b0497Lg57)\n",
    "\n",
    "<code>import RPi.GPIO as GPIO</code> : This package provides a Python module to control the GPIO on a Raspberry Pi.<br>\n",
    "* Note that this module is unsuitable for real-time or timing critical applications.\n",
    "\n",
    "<code>GPIO.setmode(GPIO.BOARD)</code> : GPIO.setmode (Pin Numbering System) This function is used to define Pin numbering system i.e. GPIO numbering or Physical numbering. In RiPi.GPIO GPIO numbering is identified by Broadcom Chip (BCM) whereas Physical numbering is identified by BOARD.<br>\n",
    "* Note: Pin Numbering System = BOARD/BCM. The example is set to use the Physical pin numbering system. \n",
    "\n",
    "<code>GPIO.setup(37,GPIO.OUT)</code> : \n",
    "\n",
    "<code>GPIO.output(37,True)</code> :\n",
    "\n",
    "<code>GPIO.cleanup()</code> :\n",
    "\n",
    "<code>GPIO.setup(40, GPIO.IN)</code> :\n",
    "\n"
   ]
  },
  {
   "cell_type": "markdown",
   "metadata": {},
   "source": [
    "### Calculating Resistor for LED\n",
    "/begin{equation}\n",
    "r = /frac{Vs - Vf}{If} \n",
    "/end{equation}\n"
   ]
  },
  {
   "cell_type": "code",
   "execution_count": 1,
   "metadata": {},
   "outputs": [
    {
     "name": "stdout",
     "output_type": "stream",
     "text": [
      "55.0  Ohm resistor\n"
     ]
    }
   ],
   "source": [
    "Vf = 3.3\n",
    "Vs = 2.2 #Red LED\n",
    "If = 20/1000\n",
    "resistor = (Vf - Vs)/If\n",
    "print(str(round(resistor, 2)), ' Ohm resistor')"
   ]
  },
  {
   "cell_type": "markdown",
   "metadata": {},
   "source": [
    "### Reading Binary\n",
    "Lesson 5 Understanding Binary Numbers"
   ]
  },
  {
   "cell_type": "markdown",
   "metadata": {},
   "source": [
    "### Reading Input from GPIO \n",
    "Lesson 6 Understanding GPIO Inputs, Pull Up and Pull Down Resistors\n"
   ]
  },
  {
   "cell_type": "markdown",
   "metadata": {},
   "source": [
    "### Inputs from Button Switch\n"
   ]
  }
 ],
 "metadata": {
  "kernelspec": {
   "display_name": "Python 3",
   "language": "python",
   "name": "python3"
  },
  "language_info": {
   "codemirror_mode": {
    "name": "ipython",
    "version": 3
   },
   "file_extension": ".py",
   "mimetype": "text/x-python",
   "name": "python",
   "nbconvert_exporter": "python",
   "pygments_lexer": "ipython3",
   "version": "3.9.2"
  }
 },
 "nbformat": 4,
 "nbformat_minor": 2
}
